{
 "cells": [
  {
   "cell_type": "code",
   "execution_count": 1,
   "metadata": {},
   "outputs": [],
   "source": [
    "import pandas as pd\n",
    "import numpy as np\n",
    "import matplotlib.pyplot as plt\n",
    "import math"
   ]
  },
  {
   "cell_type": "code",
   "execution_count": 2,
   "metadata": {},
   "outputs": [],
   "source": [
    "df = pd.read_csv('test.csv')"
   ]
  },
  {
   "cell_type": "code",
   "execution_count": 3,
   "metadata": {},
   "outputs": [
    {
     "data": {
      "text/html": [
       "<div>\n",
       "<style scoped>\n",
       "    .dataframe tbody tr th:only-of-type {\n",
       "        vertical-align: middle;\n",
       "    }\n",
       "\n",
       "    .dataframe tbody tr th {\n",
       "        vertical-align: top;\n",
       "    }\n",
       "\n",
       "    .dataframe thead th {\n",
       "        text-align: right;\n",
       "    }\n",
       "</style>\n",
       "<table border=\"1\" class=\"dataframe\">\n",
       "  <thead>\n",
       "    <tr style=\"text-align: right;\">\n",
       "      <th></th>\n",
       "      <th>Id</th>\n",
       "      <th>MSSubClass</th>\n",
       "      <th>MSZoning</th>\n",
       "      <th>LotFrontage</th>\n",
       "      <th>LotArea</th>\n",
       "      <th>Street</th>\n",
       "      <th>Alley</th>\n",
       "      <th>LotShape</th>\n",
       "      <th>LandContour</th>\n",
       "      <th>Utilities</th>\n",
       "      <th>...</th>\n",
       "      <th>ScreenPorch</th>\n",
       "      <th>PoolArea</th>\n",
       "      <th>PoolQC</th>\n",
       "      <th>Fence</th>\n",
       "      <th>MiscFeature</th>\n",
       "      <th>MiscVal</th>\n",
       "      <th>MoSold</th>\n",
       "      <th>YrSold</th>\n",
       "      <th>SaleType</th>\n",
       "      <th>SaleCondition</th>\n",
       "    </tr>\n",
       "  </thead>\n",
       "  <tbody>\n",
       "    <tr>\n",
       "      <th>0</th>\n",
       "      <td>1461</td>\n",
       "      <td>20</td>\n",
       "      <td>RH</td>\n",
       "      <td>80.0</td>\n",
       "      <td>11622</td>\n",
       "      <td>Pave</td>\n",
       "      <td>NaN</td>\n",
       "      <td>Reg</td>\n",
       "      <td>Lvl</td>\n",
       "      <td>AllPub</td>\n",
       "      <td>...</td>\n",
       "      <td>120</td>\n",
       "      <td>0</td>\n",
       "      <td>NaN</td>\n",
       "      <td>MnPrv</td>\n",
       "      <td>NaN</td>\n",
       "      <td>0</td>\n",
       "      <td>6</td>\n",
       "      <td>2010</td>\n",
       "      <td>WD</td>\n",
       "      <td>Normal</td>\n",
       "    </tr>\n",
       "    <tr>\n",
       "      <th>1</th>\n",
       "      <td>1462</td>\n",
       "      <td>20</td>\n",
       "      <td>RL</td>\n",
       "      <td>81.0</td>\n",
       "      <td>14267</td>\n",
       "      <td>Pave</td>\n",
       "      <td>NaN</td>\n",
       "      <td>IR1</td>\n",
       "      <td>Lvl</td>\n",
       "      <td>AllPub</td>\n",
       "      <td>...</td>\n",
       "      <td>0</td>\n",
       "      <td>0</td>\n",
       "      <td>NaN</td>\n",
       "      <td>NaN</td>\n",
       "      <td>Gar2</td>\n",
       "      <td>12500</td>\n",
       "      <td>6</td>\n",
       "      <td>2010</td>\n",
       "      <td>WD</td>\n",
       "      <td>Normal</td>\n",
       "    </tr>\n",
       "    <tr>\n",
       "      <th>2</th>\n",
       "      <td>1463</td>\n",
       "      <td>60</td>\n",
       "      <td>RL</td>\n",
       "      <td>74.0</td>\n",
       "      <td>13830</td>\n",
       "      <td>Pave</td>\n",
       "      <td>NaN</td>\n",
       "      <td>IR1</td>\n",
       "      <td>Lvl</td>\n",
       "      <td>AllPub</td>\n",
       "      <td>...</td>\n",
       "      <td>0</td>\n",
       "      <td>0</td>\n",
       "      <td>NaN</td>\n",
       "      <td>MnPrv</td>\n",
       "      <td>NaN</td>\n",
       "      <td>0</td>\n",
       "      <td>3</td>\n",
       "      <td>2010</td>\n",
       "      <td>WD</td>\n",
       "      <td>Normal</td>\n",
       "    </tr>\n",
       "    <tr>\n",
       "      <th>3</th>\n",
       "      <td>1464</td>\n",
       "      <td>60</td>\n",
       "      <td>RL</td>\n",
       "      <td>78.0</td>\n",
       "      <td>9978</td>\n",
       "      <td>Pave</td>\n",
       "      <td>NaN</td>\n",
       "      <td>IR1</td>\n",
       "      <td>Lvl</td>\n",
       "      <td>AllPub</td>\n",
       "      <td>...</td>\n",
       "      <td>0</td>\n",
       "      <td>0</td>\n",
       "      <td>NaN</td>\n",
       "      <td>NaN</td>\n",
       "      <td>NaN</td>\n",
       "      <td>0</td>\n",
       "      <td>6</td>\n",
       "      <td>2010</td>\n",
       "      <td>WD</td>\n",
       "      <td>Normal</td>\n",
       "    </tr>\n",
       "    <tr>\n",
       "      <th>4</th>\n",
       "      <td>1465</td>\n",
       "      <td>120</td>\n",
       "      <td>RL</td>\n",
       "      <td>43.0</td>\n",
       "      <td>5005</td>\n",
       "      <td>Pave</td>\n",
       "      <td>NaN</td>\n",
       "      <td>IR1</td>\n",
       "      <td>HLS</td>\n",
       "      <td>AllPub</td>\n",
       "      <td>...</td>\n",
       "      <td>144</td>\n",
       "      <td>0</td>\n",
       "      <td>NaN</td>\n",
       "      <td>NaN</td>\n",
       "      <td>NaN</td>\n",
       "      <td>0</td>\n",
       "      <td>1</td>\n",
       "      <td>2010</td>\n",
       "      <td>WD</td>\n",
       "      <td>Normal</td>\n",
       "    </tr>\n",
       "  </tbody>\n",
       "</table>\n",
       "<p>5 rows × 80 columns</p>\n",
       "</div>"
      ],
      "text/plain": [
       "     Id  MSSubClass MSZoning  LotFrontage  LotArea Street Alley LotShape  \\\n",
       "0  1461          20       RH         80.0    11622   Pave   NaN      Reg   \n",
       "1  1462          20       RL         81.0    14267   Pave   NaN      IR1   \n",
       "2  1463          60       RL         74.0    13830   Pave   NaN      IR1   \n",
       "3  1464          60       RL         78.0     9978   Pave   NaN      IR1   \n",
       "4  1465         120       RL         43.0     5005   Pave   NaN      IR1   \n",
       "\n",
       "  LandContour Utilities      ...       ScreenPorch PoolArea PoolQC  Fence  \\\n",
       "0         Lvl    AllPub      ...               120        0    NaN  MnPrv   \n",
       "1         Lvl    AllPub      ...                 0        0    NaN    NaN   \n",
       "2         Lvl    AllPub      ...                 0        0    NaN  MnPrv   \n",
       "3         Lvl    AllPub      ...                 0        0    NaN    NaN   \n",
       "4         HLS    AllPub      ...               144        0    NaN    NaN   \n",
       "\n",
       "  MiscFeature MiscVal MoSold  YrSold  SaleType  SaleCondition  \n",
       "0         NaN       0      6    2010        WD         Normal  \n",
       "1        Gar2   12500      6    2010        WD         Normal  \n",
       "2         NaN       0      3    2010        WD         Normal  \n",
       "3         NaN       0      6    2010        WD         Normal  \n",
       "4         NaN       0      1    2010        WD         Normal  \n",
       "\n",
       "[5 rows x 80 columns]"
      ]
     },
     "execution_count": 3,
     "metadata": {},
     "output_type": "execute_result"
    }
   ],
   "source": [
    "df.head()"
   ]
  },
  {
   "cell_type": "code",
   "execution_count": 4,
   "metadata": {},
   "outputs": [],
   "source": [
    "df1 = df.copy()"
   ]
  },
  {
   "cell_type": "code",
   "execution_count": 5,
   "metadata": {},
   "outputs": [],
   "source": [
    "df1.drop('Id',axis=1,inplace=True)"
   ]
  },
  {
   "cell_type": "code",
   "execution_count": 6,
   "metadata": {},
   "outputs": [
    {
     "name": "stdout",
     "output_type": "stream",
     "text": [
      "total 36 numerical features\n"
     ]
    }
   ],
   "source": [
    "numerical_features = [features for features in df1.columns if df1[features].dtype != 'O']\n",
    "\n",
    "print(f'total {len(numerical_features)} numerical features')"
   ]
  },
  {
   "cell_type": "code",
   "execution_count": 7,
   "metadata": {},
   "outputs": [
    {
     "name": "stdout",
     "output_type": "stream",
     "text": [
      "total 43 categorical features\n"
     ]
    }
   ],
   "source": [
    "categorical_features = [features for features in df1.columns if df1[features].dtype == 'O']\n",
    "\n",
    "print(f'total {len(categorical_features)} categorical features')"
   ]
  },
  {
   "cell_type": "code",
   "execution_count": 8,
   "metadata": {},
   "outputs": [
    {
     "data": {
      "text/plain": [
       "4"
      ]
     },
     "execution_count": 8,
     "metadata": {},
     "output_type": "execute_result"
    }
   ],
   "source": [
    "year_feature = [feature for feature in numerical_features if 'Yr' in feature or 'Year' in feature]\n",
    "len(year_feature)"
   ]
  },
  {
   "cell_type": "code",
   "execution_count": 9,
   "metadata": {},
   "outputs": [
    {
     "data": {
      "text/plain": [
       "17"
      ]
     },
     "execution_count": 9,
     "metadata": {},
     "output_type": "execute_result"
    }
   ],
   "source": [
    "discrete_features = [feature for feature in numerical_features if df1[feature].nunique() < 27 and feature not in year_feature]\n",
    "len(discrete_features)"
   ]
  },
  {
   "cell_type": "code",
   "execution_count": 10,
   "metadata": {},
   "outputs": [
    {
     "data": {
      "text/plain": [
       "15"
      ]
     },
     "execution_count": 10,
     "metadata": {},
     "output_type": "execute_result"
    }
   ],
   "source": [
    "continuous_features = [feature for feature in numerical_features if feature not in discrete_features+year_feature]\n",
    "len(continuous_features)"
   ]
  },
  {
   "cell_type": "code",
   "execution_count": 11,
   "metadata": {},
   "outputs": [],
   "source": [
    "# Filling missing values in categorical variables\n",
    "\n",
    "df1[categorical_features] = df1[categorical_features].fillna('missing')"
   ]
  },
  {
   "cell_type": "code",
   "execution_count": 12,
   "metadata": {},
   "outputs": [],
   "source": [
    "# numericalize the categorical features\n",
    "\n",
    "df1[categorical_features] = df1[categorical_features].astype('category')\n",
    "\n",
    "for feature in categorical_features:\n",
    "    df1[feature] = df1[feature].cat.codes"
   ]
  },
  {
   "cell_type": "code",
   "execution_count": 13,
   "metadata": {},
   "outputs": [],
   "source": [
    "for feature in year_feature:\n",
    "    if feature == 'YrSold':\n",
    "        pass\n",
    "    else:\n",
    "        df1[feature] = df1['YrSold'] - df1[feature]"
   ]
  },
  {
   "cell_type": "code",
   "execution_count": 14,
   "metadata": {},
   "outputs": [
    {
     "data": {
      "text/plain": [
       "YearBuilt        0\n",
       "YearRemodAdd     0\n",
       "GarageYrBlt     78\n",
       "YrSold           0\n",
       "dtype: int64"
      ]
     },
     "execution_count": 14,
     "metadata": {},
     "output_type": "execute_result"
    }
   ],
   "source": [
    "df1[year_feature].isnull().sum()"
   ]
  },
  {
   "cell_type": "code",
   "execution_count": 15,
   "metadata": {},
   "outputs": [],
   "source": [
    "for feature in year_feature:\n",
    "    if df1[feature].isnull().sum() > 0:\n",
    "        df1[feature+'_na'] = df1[feature].isnull()\n",
    "        df1[feature] = df1[feature].fillna(df1[feature].median())"
   ]
  },
  {
   "cell_type": "code",
   "execution_count": 16,
   "metadata": {},
   "outputs": [
    {
     "data": {
      "text/plain": [
       "MSSubClass      0\n",
       "OverallQual     0\n",
       "OverallCond     0\n",
       "LowQualFinSF    0\n",
       "BsmtFullBath    2\n",
       "BsmtHalfBath    2\n",
       "FullBath        0\n",
       "HalfBath        0\n",
       "BedroomAbvGr    0\n",
       "KitchenAbvGr    0\n",
       "TotRmsAbvGrd    0\n",
       "Fireplaces      0\n",
       "GarageCars      1\n",
       "3SsnPorch       0\n",
       "PoolArea        0\n",
       "MiscVal         0\n",
       "MoSold          0\n",
       "dtype: int64"
      ]
     },
     "execution_count": 16,
     "metadata": {},
     "output_type": "execute_result"
    }
   ],
   "source": [
    "df1[discrete_features].isnull().sum()"
   ]
  },
  {
   "cell_type": "code",
   "execution_count": 17,
   "metadata": {},
   "outputs": [],
   "source": [
    "\n",
    "for feature in discrete_features:\n",
    "    if df1[feature].isnull().sum() > 0:\n",
    "        df1[feature].fillna(df1[feature].median(),inplace=True)"
   ]
  },
  {
   "cell_type": "code",
   "execution_count": 18,
   "metadata": {},
   "outputs": [
    {
     "data": {
      "text/plain": [
       "LotFrontage      227\n",
       "LotArea            0\n",
       "MasVnrArea        15\n",
       "BsmtFinSF1         1\n",
       "BsmtFinSF2         1\n",
       "BsmtUnfSF          1\n",
       "TotalBsmtSF        1\n",
       "1stFlrSF           0\n",
       "2ndFlrSF           0\n",
       "GrLivArea          0\n",
       "GarageArea         1\n",
       "WoodDeckSF         0\n",
       "OpenPorchSF        0\n",
       "EnclosedPorch      0\n",
       "ScreenPorch        0\n",
       "dtype: int64"
      ]
     },
     "execution_count": 18,
     "metadata": {},
     "output_type": "execute_result"
    }
   ],
   "source": [
    "df1[continuous_features].isnull().sum()"
   ]
  },
  {
   "cell_type": "code",
   "execution_count": 19,
   "metadata": {},
   "outputs": [],
   "source": [
    "# filling missing values in continuous features\n",
    "\n",
    "df1['LotFrontage_na'] = np.where(df1['LotFrontage'].isnull(), 1, 0)\n",
    "df1['LotFrontage'].fillna(df1['LotFrontage'].median(),inplace=True)\n",
    "\n",
    "df1['MasVnrArea_na'] = np.where(df1['MasVnrArea'].isnull(), 1, 0)\n",
    "df1['MasVnrArea'].fillna(df1['MasVnrArea'].median(),inplace=True)"
   ]
  },
  {
   "cell_type": "code",
   "execution_count": 20,
   "metadata": {},
   "outputs": [
    {
     "name": "stdout",
     "output_type": "stream",
     "text": [
      "<class 'pandas.core.frame.DataFrame'>\n",
      "RangeIndex: 1459 entries, 0 to 1458\n",
      "Data columns (total 82 columns):\n",
      "MSSubClass        1459 non-null int64\n",
      "MSZoning          1459 non-null int8\n",
      "LotFrontage       1459 non-null float64\n",
      "LotArea           1459 non-null int64\n",
      "Street            1459 non-null int8\n",
      "Alley             1459 non-null int8\n",
      "LotShape          1459 non-null int8\n",
      "LandContour       1459 non-null int8\n",
      "Utilities         1459 non-null int8\n",
      "LotConfig         1459 non-null int8\n",
      "LandSlope         1459 non-null int8\n",
      "Neighborhood      1459 non-null int8\n",
      "Condition1        1459 non-null int8\n",
      "Condition2        1459 non-null int8\n",
      "BldgType          1459 non-null int8\n",
      "HouseStyle        1459 non-null int8\n",
      "OverallQual       1459 non-null int64\n",
      "OverallCond       1459 non-null int64\n",
      "YearBuilt         1459 non-null int64\n",
      "YearRemodAdd      1459 non-null int64\n",
      "RoofStyle         1459 non-null int8\n",
      "RoofMatl          1459 non-null int8\n",
      "Exterior1st       1459 non-null int8\n",
      "Exterior2nd       1459 non-null int8\n",
      "MasVnrType        1459 non-null int8\n",
      "MasVnrArea        1459 non-null float64\n",
      "ExterQual         1459 non-null int8\n",
      "ExterCond         1459 non-null int8\n",
      "Foundation        1459 non-null int8\n",
      "BsmtQual          1459 non-null int8\n",
      "BsmtCond          1459 non-null int8\n",
      "BsmtExposure      1459 non-null int8\n",
      "BsmtFinType1      1459 non-null int8\n",
      "BsmtFinSF1        1458 non-null float64\n",
      "BsmtFinType2      1459 non-null int8\n",
      "BsmtFinSF2        1458 non-null float64\n",
      "BsmtUnfSF         1458 non-null float64\n",
      "TotalBsmtSF       1458 non-null float64\n",
      "Heating           1459 non-null int8\n",
      "HeatingQC         1459 non-null int8\n",
      "CentralAir        1459 non-null int8\n",
      "Electrical        1459 non-null int8\n",
      "1stFlrSF          1459 non-null int64\n",
      "2ndFlrSF          1459 non-null int64\n",
      "LowQualFinSF      1459 non-null int64\n",
      "GrLivArea         1459 non-null int64\n",
      "BsmtFullBath      1459 non-null float64\n",
      "BsmtHalfBath      1459 non-null float64\n",
      "FullBath          1459 non-null int64\n",
      "HalfBath          1459 non-null int64\n",
      "BedroomAbvGr      1459 non-null int64\n",
      "KitchenAbvGr      1459 non-null int64\n",
      "KitchenQual       1459 non-null int8\n",
      "TotRmsAbvGrd      1459 non-null int64\n",
      "Functional        1459 non-null int8\n",
      "Fireplaces        1459 non-null int64\n",
      "FireplaceQu       1459 non-null int8\n",
      "GarageType        1459 non-null int8\n",
      "GarageYrBlt       1459 non-null float64\n",
      "GarageFinish      1459 non-null int8\n",
      "GarageCars        1459 non-null float64\n",
      "GarageArea        1458 non-null float64\n",
      "GarageQual        1459 non-null int8\n",
      "GarageCond        1459 non-null int8\n",
      "PavedDrive        1459 non-null int8\n",
      "WoodDeckSF        1459 non-null int64\n",
      "OpenPorchSF       1459 non-null int64\n",
      "EnclosedPorch     1459 non-null int64\n",
      "3SsnPorch         1459 non-null int64\n",
      "ScreenPorch       1459 non-null int64\n",
      "PoolArea          1459 non-null int64\n",
      "PoolQC            1459 non-null int8\n",
      "Fence             1459 non-null int8\n",
      "MiscFeature       1459 non-null int8\n",
      "MiscVal           1459 non-null int64\n",
      "MoSold            1459 non-null int64\n",
      "YrSold            1459 non-null int64\n",
      "SaleType          1459 non-null int8\n",
      "SaleCondition     1459 non-null int8\n",
      "GarageYrBlt_na    1459 non-null bool\n",
      "LotFrontage_na    1459 non-null int32\n",
      "MasVnrArea_na     1459 non-null int32\n",
      "dtypes: bool(1), float64(11), int32(2), int64(25), int8(43)\n",
      "memory usage: 484.5 KB\n"
     ]
    }
   ],
   "source": [
    "df1.info()"
   ]
  },
  {
   "cell_type": "code",
   "execution_count": 21,
   "metadata": {},
   "outputs": [],
   "source": [
    "for feature in continuous_features:\n",
    "    if df1[feature].isnull().sum() > 0:\n",
    "        df1[feature].fillna(df1[feature].median(),inplace=True)"
   ]
  },
  {
   "cell_type": "code",
   "execution_count": 22,
   "metadata": {},
   "outputs": [
    {
     "name": "stdout",
     "output_type": "stream",
     "text": [
      "<class 'pandas.core.frame.DataFrame'>\n",
      "RangeIndex: 1459 entries, 0 to 1458\n",
      "Data columns (total 82 columns):\n",
      "MSSubClass        1459 non-null int64\n",
      "MSZoning          1459 non-null int8\n",
      "LotFrontage       1459 non-null float64\n",
      "LotArea           1459 non-null int64\n",
      "Street            1459 non-null int8\n",
      "Alley             1459 non-null int8\n",
      "LotShape          1459 non-null int8\n",
      "LandContour       1459 non-null int8\n",
      "Utilities         1459 non-null int8\n",
      "LotConfig         1459 non-null int8\n",
      "LandSlope         1459 non-null int8\n",
      "Neighborhood      1459 non-null int8\n",
      "Condition1        1459 non-null int8\n",
      "Condition2        1459 non-null int8\n",
      "BldgType          1459 non-null int8\n",
      "HouseStyle        1459 non-null int8\n",
      "OverallQual       1459 non-null int64\n",
      "OverallCond       1459 non-null int64\n",
      "YearBuilt         1459 non-null int64\n",
      "YearRemodAdd      1459 non-null int64\n",
      "RoofStyle         1459 non-null int8\n",
      "RoofMatl          1459 non-null int8\n",
      "Exterior1st       1459 non-null int8\n",
      "Exterior2nd       1459 non-null int8\n",
      "MasVnrType        1459 non-null int8\n",
      "MasVnrArea        1459 non-null float64\n",
      "ExterQual         1459 non-null int8\n",
      "ExterCond         1459 non-null int8\n",
      "Foundation        1459 non-null int8\n",
      "BsmtQual          1459 non-null int8\n",
      "BsmtCond          1459 non-null int8\n",
      "BsmtExposure      1459 non-null int8\n",
      "BsmtFinType1      1459 non-null int8\n",
      "BsmtFinSF1        1459 non-null float64\n",
      "BsmtFinType2      1459 non-null int8\n",
      "BsmtFinSF2        1459 non-null float64\n",
      "BsmtUnfSF         1459 non-null float64\n",
      "TotalBsmtSF       1459 non-null float64\n",
      "Heating           1459 non-null int8\n",
      "HeatingQC         1459 non-null int8\n",
      "CentralAir        1459 non-null int8\n",
      "Electrical        1459 non-null int8\n",
      "1stFlrSF          1459 non-null int64\n",
      "2ndFlrSF          1459 non-null int64\n",
      "LowQualFinSF      1459 non-null int64\n",
      "GrLivArea         1459 non-null int64\n",
      "BsmtFullBath      1459 non-null float64\n",
      "BsmtHalfBath      1459 non-null float64\n",
      "FullBath          1459 non-null int64\n",
      "HalfBath          1459 non-null int64\n",
      "BedroomAbvGr      1459 non-null int64\n",
      "KitchenAbvGr      1459 non-null int64\n",
      "KitchenQual       1459 non-null int8\n",
      "TotRmsAbvGrd      1459 non-null int64\n",
      "Functional        1459 non-null int8\n",
      "Fireplaces        1459 non-null int64\n",
      "FireplaceQu       1459 non-null int8\n",
      "GarageType        1459 non-null int8\n",
      "GarageYrBlt       1459 non-null float64\n",
      "GarageFinish      1459 non-null int8\n",
      "GarageCars        1459 non-null float64\n",
      "GarageArea        1459 non-null float64\n",
      "GarageQual        1459 non-null int8\n",
      "GarageCond        1459 non-null int8\n",
      "PavedDrive        1459 non-null int8\n",
      "WoodDeckSF        1459 non-null int64\n",
      "OpenPorchSF       1459 non-null int64\n",
      "EnclosedPorch     1459 non-null int64\n",
      "3SsnPorch         1459 non-null int64\n",
      "ScreenPorch       1459 non-null int64\n",
      "PoolArea          1459 non-null int64\n",
      "PoolQC            1459 non-null int8\n",
      "Fence             1459 non-null int8\n",
      "MiscFeature       1459 non-null int8\n",
      "MiscVal           1459 non-null int64\n",
      "MoSold            1459 non-null int64\n",
      "YrSold            1459 non-null int64\n",
      "SaleType          1459 non-null int8\n",
      "SaleCondition     1459 non-null int8\n",
      "GarageYrBlt_na    1459 non-null bool\n",
      "LotFrontage_na    1459 non-null int32\n",
      "MasVnrArea_na     1459 non-null int32\n",
      "dtypes: bool(1), float64(11), int32(2), int64(25), int8(43)\n",
      "memory usage: 484.5 KB\n"
     ]
    }
   ],
   "source": [
    "df1.info()"
   ]
  },
  {
   "cell_type": "code",
   "execution_count": 23,
   "metadata": {},
   "outputs": [],
   "source": [
    "df1.to_csv('x_test1.csv',index=False)"
   ]
  },
  {
   "cell_type": "code",
   "execution_count": null,
   "metadata": {},
   "outputs": [],
   "source": []
  }
 ],
 "metadata": {
  "kernelspec": {
   "display_name": "Python 3",
   "language": "python",
   "name": "python3"
  },
  "language_info": {
   "codemirror_mode": {
    "name": "ipython",
    "version": 3
   },
   "file_extension": ".py",
   "mimetype": "text/x-python",
   "name": "python",
   "nbconvert_exporter": "python",
   "pygments_lexer": "ipython3",
   "version": "3.7.1"
  }
 },
 "nbformat": 4,
 "nbformat_minor": 2
}
